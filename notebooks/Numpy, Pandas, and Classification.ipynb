{
 "cells": [
  {
   "cell_type": "markdown",
   "metadata": {},
   "source": [
    "# Using Numpy\n",
    "\n",
    "From the numpy website [numpy.org](https://numpy.org/) :\n",
    "\n",
    "```\n",
    "NumPy is the fundamental package for scientific computing with Python. It contains among other things:\n",
    "\n",
    "* a powerful N-dimensional array object\n",
    "* sophisticated (broadcasting) functions\n",
    "* tools for integrating C/C++ and Fortran code\n",
    "* useful linear algebra, Fourier transform, and random number capabilities\n",
    "\n",
    "Besides its obvious scientific uses, NumPy can also be used as an efficient multi-dimensional container of generic data. Arbitrary data-types can be defined. This allows NumPy to seamlessly and speedily integrate with a wide variety of databases.\n",
    "\n",
    "```\n",
    "\n",
    "Numpy allows us to easily work with vectors, matrices, and more in Python. It provides a high-performance multidimensional array object as well as tools for working with these arrays. It is the industry standard for calculations such as this in Python.\n",
    "\n",
    "## Arrays\n",
    "\n",
    "A numpy array is a grid of values, and is indexed by a tuple (an immutable ordered list of values) of nonnegative integers. Numpy arrays can be similar to Python lists, but have much more functionality to allow them to be used for matrix math. "
   ]
  },
  {
   "cell_type": "code",
   "execution_count": 1,
   "metadata": {},
   "outputs": [
    {
     "name": "stdout",
     "output_type": "stream",
     "text": [
      "<class 'numpy.ndarray'>\n",
      "(3,)\n",
      "1 2 3\n",
      "[5 2 3]\n",
      "(2, 3)\n",
      "1 2 4\n"
     ]
    }
   ],
   "source": [
    "import numpy as np\n",
    "\n",
    "# Create an array\n",
    "a = np.array([1, 2, 3])\n",
    "\n",
    "# We can do many of the same operations as lists\n",
    "print(type(a))            # Prints \"<class 'numpy.ndarray'>\"\n",
    "print(a.shape)            # Prints \"(3,)\"\n",
    "print(a[0], a[1], a[2])   # Prints \"1 2 3\"\n",
    "a[0] = 5                  # Change an element of the array\n",
    "print(a)                  # Prints \"[5, 2, 3]\"\n",
    "\n",
    "\n",
    "# We can create lists with other lists, also known as \"rank 2\"\n",
    "b = np.array([[1,2,3],[4,5,6]])\n",
    "print(b.shape)                     # Prints \"(2, 3)\"\n",
    "print(b[0, 0], b[0, 1], b[1, 0])   # Prints \"1 2 4\"\n"
   ]
  },
  {
   "cell_type": "markdown",
   "metadata": {},
   "source": [
    "Numpy also provides many functions to create arrays. You can read about more of them in the [documenation](https://docs.scipy.org/doc/numpy/user/basics.creation.html#arrays-creation)"
   ]
  },
  {
   "cell_type": "code",
   "execution_count": 2,
   "metadata": {},
   "outputs": [
    {
     "name": "stdout",
     "output_type": "stream",
     "text": [
      "[[0. 0.]\n",
      " [0. 0.]]\n",
      "[[1. 1.]]\n",
      "[[7 7]\n",
      " [7 7]]\n",
      "[[0.67144693 0.56231629]\n",
      " [0.80180301 0.60445792]]\n"
     ]
    }
   ],
   "source": [
    "# Create an array of all zeros\n",
    "\n",
    "a = np.zeros((2,2))   \n",
    "print(a)\n",
    "\n",
    "# Create an array of all ones\n",
    "b = np.ones((1,2))\n",
    "print(b)\n",
    "\n",
    "# Create a constant array\n",
    "c = np.full((2,2), 7)  \n",
    "print(c)\n",
    "\n",
    "# Create an array filled with random values\n",
    "e = np.random.random((2,2))\n",
    "print(e)"
   ]
  },
  {
   "cell_type": "markdown",
   "metadata": {},
   "source": [
    "### Array indexing\n",
    "\n",
    "Similar to Python lists, numpy arrays can be sliced. Since arrays may be multidimensional, you must specify a slice for each dimension of the array:"
   ]
  },
  {
   "cell_type": "code",
   "execution_count": 3,
   "metadata": {},
   "outputs": [
    {
     "name": "stdout",
     "output_type": "stream",
     "text": [
      "[ 9 10]\n"
     ]
    }
   ],
   "source": [
    "# Create the following rank 1 array\n",
    "\n",
    "a = np.array([9,10,11,12])\n",
    "\n",
    "# Use slicing to pull out the subarray consisting of the first 2 rows\n",
    "\n",
    "b = a[:2]\n",
    "\n",
    "print(b)\n"
   ]
  },
  {
   "cell_type": "markdown",
   "metadata": {},
   "source": [
    "### Array Math\n",
    "\n",
    "Python allows something called \"[operator overloading](https://www.geeksforgeeks.org/operator-overloading-in-python/)\". This allows programmers to define the interactions between two variables being operated on by one another. Think of this in terms of how vector addition or scalar multiplication are performed. Python also allows array math to be done via built in functions. Both are outlined below:"
   ]
  },
  {
   "cell_type": "code",
   "execution_count": 4,
   "metadata": {},
   "outputs": [
    {
     "name": "stdout",
     "output_type": "stream",
     "text": [
      "[6. 8.]\n",
      "[6. 8.]\n",
      "[-4. -4.]\n",
      "[-4. -4.]\n",
      "[ 5. 10.]\n",
      "[ 5. 10.]\n"
     ]
    }
   ],
   "source": [
    "x = np.array([1,2], dtype=np.float64)\n",
    "y = np.array([5,6], dtype=np.float64)\n",
    "\n",
    "scalar = 5\n",
    "\n",
    "# Elementwise sum; both produce the array\n",
    "print(x + y)\n",
    "print(np.add(x, y))\n",
    "\n",
    "# Elementwise difference; both produce the array\n",
    "print(x - y)\n",
    "print(np.subtract(x, y))\n",
    "\n",
    "\n",
    "# Scalar multiplication\n",
    "print(x * scalar)\n",
    "print(np.multiply(x, scalar))\n"
   ]
  },
  {
   "cell_type": "markdown",
   "metadata": {},
   "source": [
    "### Dot product\n",
    "\n",
    "We won't get into the details of what the dot product is yet, but it will be important to recognize it. The dot product always returns a scalar."
   ]
  },
  {
   "cell_type": "code",
   "execution_count": 5,
   "metadata": {},
   "outputs": [
    {
     "name": "stdout",
     "output_type": "stream",
     "text": [
      "2\n"
     ]
    }
   ],
   "source": [
    "a = np.array([1,-2,2])\n",
    "b = np.array([0,2,3])\n",
    "c = np.dot(a, b)\n",
    "print(c)"
   ]
  },
  {
   "cell_type": "markdown",
   "metadata": {},
   "source": [
    "## Pandas\n",
    "\n",
    "Pandas is super useful for working with tabular data. We'll largely be using Pandas for its DataFrame structure, a 2-D labeled data structure wtih columns of potentially different types. Essentially, it's Excel spreadsheets in Python! This is a really useful represenation for large datasets. Just like with Excel, Pandas DataFrame provides functionalities to analyze, change, and extract valuable information from the given dataset.\n",
    "\n",
    "### Creating a dataframe\n",
    "\n",
    "Pandas will load many different data structures as a starting point, but we can look at the case of a dictionary:"
   ]
  },
  {
   "cell_type": "code",
   "execution_count": 6,
   "metadata": {},
   "outputs": [],
   "source": [
    "my_dict = { \n",
    "     'name' : [\"a\", \"b\", \"c\", \"d\", \"e\",\"f\", \"g\"],\n",
    "     'age' : [20,27, 35, 55, 18, 21, 35],\n",
    "     'designation': [\"VP\", \"CEO\", \"CFO\", \"VP\", \"VP\", \"CEO\", \"MD\"]\n",
    "}"
   ]
  },
  {
   "cell_type": "markdown",
   "metadata": {},
   "source": [
    "We can easily to turn this into a DataFrame:"
   ]
  },
  {
   "cell_type": "code",
   "execution_count": 7,
   "metadata": {},
   "outputs": [
    {
     "data": {
      "text/html": [
       "<div>\n",
       "<style scoped>\n",
       "    .dataframe tbody tr th:only-of-type {\n",
       "        vertical-align: middle;\n",
       "    }\n",
       "\n",
       "    .dataframe tbody tr th {\n",
       "        vertical-align: top;\n",
       "    }\n",
       "\n",
       "    .dataframe thead th {\n",
       "        text-align: right;\n",
       "    }\n",
       "</style>\n",
       "<table border=\"1\" class=\"dataframe\">\n",
       "  <thead>\n",
       "    <tr style=\"text-align: right;\">\n",
       "      <th></th>\n",
       "      <th>name</th>\n",
       "      <th>age</th>\n",
       "      <th>designation</th>\n",
       "    </tr>\n",
       "  </thead>\n",
       "  <tbody>\n",
       "    <tr>\n",
       "      <th>0</th>\n",
       "      <td>a</td>\n",
       "      <td>20</td>\n",
       "      <td>VP</td>\n",
       "    </tr>\n",
       "    <tr>\n",
       "      <th>1</th>\n",
       "      <td>b</td>\n",
       "      <td>27</td>\n",
       "      <td>CEO</td>\n",
       "    </tr>\n",
       "    <tr>\n",
       "      <th>2</th>\n",
       "      <td>c</td>\n",
       "      <td>35</td>\n",
       "      <td>CFO</td>\n",
       "    </tr>\n",
       "    <tr>\n",
       "      <th>3</th>\n",
       "      <td>d</td>\n",
       "      <td>55</td>\n",
       "      <td>VP</td>\n",
       "    </tr>\n",
       "    <tr>\n",
       "      <th>4</th>\n",
       "      <td>e</td>\n",
       "      <td>18</td>\n",
       "      <td>VP</td>\n",
       "    </tr>\n",
       "  </tbody>\n",
       "</table>\n",
       "</div>"
      ],
      "text/plain": [
       "  name  age designation\n",
       "0    a   20          VP\n",
       "1    b   27         CEO\n",
       "2    c   35         CFO\n",
       "3    d   55          VP\n",
       "4    e   18          VP"
      ]
     },
     "execution_count": 7,
     "metadata": {},
     "output_type": "execute_result"
    }
   ],
   "source": [
    "import pandas as pd\n",
    "df = pd.DataFrame(my_dict)\n",
    "df.head() # This displays the first five rows of the DataFrame\n",
    "# df.head(10) # You can specify how many rows to display\n",
    "# df.tail() # Or look at the tail"
   ]
  },
  {
   "cell_type": "markdown",
   "metadata": {},
   "source": [
    "You can read more about using Pandas [here](https://towardsdatascience.com/pandas-dataframe-a-lightweight-intro-680e3a212b96) or peruse the Pandas documentation [here](https://pandas.pydata.org/pandas-docs/stable/getting_started/10min.html)"
   ]
  },
  {
   "cell_type": "markdown",
   "metadata": {},
   "source": [
    "## Classification\n",
    "\n",
    "Classification is one of the most basic supervised machine learning tasks in which a computer program learns from data input given to it, and uses this learning classify a new observation. The data set used could be bi-class (rainy vs sunny) or multiclass (soccer ball, football, basketball etc). Some examples of classification problems are: speech recognition, handwriting recognition, and image classification.\n",
    "\n",
    "### Our dataset\n",
    "\n",
    "For this exercise we will be exploring the [iris flower data set](https://en.wikipedia.org/wiki/Iris_flower_data_set), a commonly used \"toy data set\" (very small) for illustrative purposes. The data set consists of 50 samples from each of three species of Iris (Iris setosa, Iris virginica and Iris versicolor). Four features were measured from each sample: the length and the width of the sepals and petals, measured in centimeters. The data set is built in to ```sklearn```, you can see what other datasets are available [here](https://scikit-learn.org/stable/datasets/index.html#toy-datasets)."
   ]
  },
  {
   "cell_type": "code",
   "execution_count": 8,
   "metadata": {},
   "outputs": [],
   "source": [
    "import numpy as np\n",
    "import pandas as pd\n",
    "import matplotlib.pyplot as plt\n",
    "from sklearn.datasets import load_iris\n",
    "\n",
    "# Load iris and grab our data and labels\n",
    "iris = load_iris()\n",
    "labels, data = iris.target, iris.data\n",
    "\n",
    "target_names = iris.target_names\n",
    "\n",
    "iris_df = pd.DataFrame(data, columns = iris.feature_names)"
   ]
  },
  {
   "cell_type": "markdown",
   "metadata": {},
   "source": [
    "Pandas allows us to convenently take a look at a subsample of our dataset in table form"
   ]
  },
  {
   "cell_type": "code",
   "execution_count": 9,
   "metadata": {},
   "outputs": [
    {
     "data": {
      "text/html": [
       "<div>\n",
       "<style scoped>\n",
       "    .dataframe tbody tr th:only-of-type {\n",
       "        vertical-align: middle;\n",
       "    }\n",
       "\n",
       "    .dataframe tbody tr th {\n",
       "        vertical-align: top;\n",
       "    }\n",
       "\n",
       "    .dataframe thead th {\n",
       "        text-align: right;\n",
       "    }\n",
       "</style>\n",
       "<table border=\"1\" class=\"dataframe\">\n",
       "  <thead>\n",
       "    <tr style=\"text-align: right;\">\n",
       "      <th></th>\n",
       "      <th>sepal length (cm)</th>\n",
       "      <th>sepal width (cm)</th>\n",
       "      <th>petal length (cm)</th>\n",
       "      <th>petal width (cm)</th>\n",
       "      <th>label</th>\n",
       "      <th>label_name</th>\n",
       "    </tr>\n",
       "  </thead>\n",
       "  <tbody>\n",
       "    <tr>\n",
       "      <th>48</th>\n",
       "      <td>5.3</td>\n",
       "      <td>3.7</td>\n",
       "      <td>1.5</td>\n",
       "      <td>0.2</td>\n",
       "      <td>0</td>\n",
       "      <td>setosa</td>\n",
       "    </tr>\n",
       "    <tr>\n",
       "      <th>4</th>\n",
       "      <td>5.0</td>\n",
       "      <td>3.6</td>\n",
       "      <td>1.4</td>\n",
       "      <td>0.2</td>\n",
       "      <td>0</td>\n",
       "      <td>setosa</td>\n",
       "    </tr>\n",
       "    <tr>\n",
       "      <th>148</th>\n",
       "      <td>6.2</td>\n",
       "      <td>3.4</td>\n",
       "      <td>5.4</td>\n",
       "      <td>2.3</td>\n",
       "      <td>2</td>\n",
       "      <td>virginica</td>\n",
       "    </tr>\n",
       "    <tr>\n",
       "      <th>90</th>\n",
       "      <td>5.5</td>\n",
       "      <td>2.6</td>\n",
       "      <td>4.4</td>\n",
       "      <td>1.2</td>\n",
       "      <td>1</td>\n",
       "      <td>versicolor</td>\n",
       "    </tr>\n",
       "    <tr>\n",
       "      <th>42</th>\n",
       "      <td>4.4</td>\n",
       "      <td>3.2</td>\n",
       "      <td>1.3</td>\n",
       "      <td>0.2</td>\n",
       "      <td>0</td>\n",
       "      <td>setosa</td>\n",
       "    </tr>\n",
       "  </tbody>\n",
       "</table>\n",
       "</div>"
      ],
      "text/plain": [
       "     sepal length (cm)  sepal width (cm)  petal length (cm)  petal width (cm)  \\\n",
       "48                 5.3               3.7                1.5               0.2   \n",
       "4                  5.0               3.6                1.4               0.2   \n",
       "148                6.2               3.4                5.4               2.3   \n",
       "90                 5.5               2.6                4.4               1.2   \n",
       "42                 4.4               3.2                1.3               0.2   \n",
       "\n",
       "     label  label_name  \n",
       "48       0      setosa  \n",
       "4        0      setosa  \n",
       "148      2   virginica  \n",
       "90       1  versicolor  \n",
       "42       0      setosa  "
      ]
     },
     "execution_count": 9,
     "metadata": {},
     "output_type": "execute_result"
    }
   ],
   "source": [
    "# Adding the label number and label names to our dataframe\n",
    "iris_df['label'] = labels\n",
    "iris_df['label_name'] = np.array([iris.target_names[l] for l in labels])\n",
    "\n",
    "iris_df = iris_df.sample(frac=1) # Randomizes our data since it was in order\n",
    "iris_df.head() # Displays the first 5 rows of the dataset"
   ]
  },
  {
   "cell_type": "markdown",
   "metadata": {},
   "source": [
    "For the purposes of this class, let's restrict our focus to just the first two features (though all four would probably be a much better predictor - we can check this)"
   ]
  },
  {
   "cell_type": "code",
   "execution_count": 10,
   "metadata": {},
   "outputs": [
    {
     "data": {
      "image/png": "[encoded data removed]",
      "text/plain": [
       "<Figure size 576x432 with 1 Axes>"
      ]
     },
     "metadata": {
      "needs_background": "light"
     },
     "output_type": "display_data"
    }
   ],
   "source": [
    "colors = ['indigo', 'teal', 'yellow']\n",
    "\n",
    "fig, ax = plt.subplots(1, 1, figsize=(8,6))\n",
    "\n",
    "for key, row in iris_df.groupby('label'):\n",
    "    row.plot.scatter(ax=ax, x='sepal length (cm)', y='sepal width (cm)', label=target_names[key], color=colors[key]);"
   ]
  },
  {
   "cell_type": "markdown",
   "metadata": {},
   "source": [
    "## Linear Classification\n",
    "\n",
    "While we won't implement any linear classifiers in this class, this is a very simple way to approach classifying bi-class datasets. For this dataset, we can see that we can differentiate between one type of iris, and a combination of two other types. This is the closest we can get.\n",
    "\n",
    "![Linear classification with iris dataset](files/linear_classification.jpg \"Linear classification with iris dataset\")\n",
    "\n",
    "\n",
    "Classification is defined as the task of predicting the correct label or category of an unknown point. With two classes, we divide the data space into two halves, one for each class. So when we receive a new point, we simply find which side of the partition the point is in. Consider the standard equation for a line such as the one above:\n",
    "\\begin{align}\n",
    "y &= mx + b\n",
    "\\end{align}\n",
    "\n",
    "For any given x value, we can determine if y is above or below the line, and with this information, we can determine if our point belongs to the group setosa, or the group versicolor/virginica.\n",
    "\n",
    "## K-Nearest Neighbors\n",
    "\n",
    "The k-nearest-neighbors algorithm is a classification algorithm, and it is supervised: it takes a bunch of labeled points and uses them to learn how to label other points. To label a new point, it looks at the labeled points closest to that new point (those are its nearest neighbors), and has those neighbors vote, so whichever label most of the neighbors have is the label for the new point (the “k” is the number of neighbors it checks).\n",
    "\n",
    "Let's create a new point and see if we can't implement KNN on our own."
   ]
  },
  {
   "cell_type": "code",
   "execution_count": 11,
   "metadata": {},
   "outputs": [],
   "source": [
    "new_x, new_y = 6.5, 3.7"
   ]
  },
  {
   "cell_type": "code",
   "execution_count": 12,
   "metadata": {},
   "outputs": [
    {
     "data": {
      "text/plain": [
       "Text(6.9, 3.9000000000000004, '')"
      ]
     },
     "execution_count": 12,
     "metadata": {},
     "output_type": "execute_result"
    },
    {
     "data": {
      "image/png": "[encoded data removed]",
      "text/plain": [
       "<Figure size 576x432 with 1 Axes>"
      ]
     },
     "metadata": {
      "needs_background": "light"
     },
     "output_type": "display_data"
    }
   ],
   "source": [
    "# Plot the original points again\n",
    "colors = ['indigo', 'teal', 'yellow']\n",
    "\n",
    "fig, ax = plt.subplots(1, 1, figsize=(8,6))\n",
    "\n",
    "for key, row in iris_df.groupby('label'):\n",
    "    row.plot.scatter(ax=ax, x='sepal length (cm)', y='sepal width (cm)', label=target_names[key], color=colors[key]);\n",
    "\n",
    "# This time we add the new point as a grey dot \n",
    "# and add an arrow pointing at it\n",
    "plt.scatter(new_x, new_y, c='grey', cmap=None, edgecolor='k')\n",
    "plt.annotate('?', (new_x+0.45, new_y+0.25), fontsize=20, horizontalalignment='center', verticalalignment='center')\n",
    "plt.annotate(\"\", xytext=(new_x+0.4, new_y+0.2), xy=(new_x+0.05, new_y), arrowprops=dict(arrowstyle=\"->\"))"
   ]
  },
  {
   "cell_type": "code",
   "execution_count": 13,
   "metadata": {},
   "outputs": [
    {
     "data": {
      "text/plain": [
       "sepal length (cm)          6.3\n",
       "sepal width (cm)           3.4\n",
       "petal length (cm)          5.6\n",
       "petal width (cm)           2.4\n",
       "label                        2\n",
       "label_name           virginica\n",
       "Name: 136, dtype: object"
      ]
     },
     "execution_count": 13,
     "metadata": {},
     "output_type": "execute_result"
    }
   ],
   "source": [
    "# We take the sum of the squares of all the values in dataset \n",
    "# in order to determine the distance from the new point.\n",
    "# iris_df.iloc[:, :2].values grabs the first two columns of\n",
    "# our pandas dataframe as a numpy array\n",
    "\n",
    "distances = np.sum((iris_df.iloc[:, :2].values - [new_x, new_y])**2, axis=1)\n",
    "\n",
    "# find the index of the point whose distance is lowest\n",
    "closest_point = np.argmin(distances)\n",
    "\n",
    "# We can now access the row from the dataframe that is closest\n",
    "iris_df.iloc[closest_point]"
   ]
  },
  {
   "cell_type": "markdown",
   "metadata": {},
   "source": [
    "By looking at the closest neighbor to the point, we were able to determine that the unknown point is likely virginica. But this is an analysis of k=1, and there is likely more accuracy to be had with higher values of k. We could also increase our accuracy by using all four dimensions in the dataset, but won't be able to visualize the process.\n",
    "\n",
    "## Using Scikit-learn\n",
    "\n",
    "Scikit-learn has a built in KNN implementation that is faster easier to use than our homemade version. Let's see how accurate of a model we can make using it."
   ]
  },
  {
   "cell_type": "code",
   "execution_count": 14,
   "metadata": {},
   "outputs": [],
   "source": [
    "# First lets grab our four columns of values\n",
    "# and the one column of class names\n",
    "X = iris_df.iloc[:, :-2].values\n",
    "y = iris_df.iloc[:, 5].values"
   ]
  },
  {
   "cell_type": "markdown",
   "metadata": {},
   "source": [
    "First we split our dataset in train and test datasets - we'll be using 80% for training data, and 20% for test data. You can read more about this process [here](https://medium.com/@contactsunny/how-to-split-your-dataset-to-train-and-test-datasets-using-scikit-learn-e7cf6eb5e0d)"
   ]
  },
  {
   "cell_type": "code",
   "execution_count": 15,
   "metadata": {},
   "outputs": [],
   "source": [
    "from sklearn.model_selection import train_test_split\n",
    "X_train, X_test, y_train, y_test = train_test_split(X, y, test_size=0.20)"
   ]
  },
  {
   "cell_type": "markdown",
   "metadata": {},
   "source": [
    "Before making any predictions, we'll want to scale our data so it is all uniformly evaluated. From Wikipedia:\n",
    "\n",
    "> Since the range of values of raw data varies widely, in some machine learning algorithms, objective functions will not work properly without normalization. For example, the majority of classifiers calculate the distance between two points by the Euclidean distance. If one of the features has a broad range of values, the distance will be governed by this particular feature. Therefore, the range of all features should be normalized so that each feature contributes approximately proportionately to the final distance."
   ]
  },
  {
   "cell_type": "code",
   "execution_count": 16,
   "metadata": {},
   "outputs": [],
   "source": [
    "from sklearn.preprocessing import StandardScaler\n",
    "scaler = StandardScaler()\n",
    "scaler.fit(X)\n",
    "\n",
    "X_train = scaler.transform(X_train)\n",
    "X_test = scaler.transform(X_test)"
   ]
  },
  {
   "cell_type": "markdown",
   "metadata": {},
   "source": [
    "We're finally ready to train our classifier. First we import the KNeighborsClassifier from sklearn.neighbors. We then initialize our KNN classifier to check the 5 nearest neighbors (n_neighbors=5). Then we fit our classifier to the training data. It's important to note that we are choosing 5 somewhat randomly."
   ]
  },
  {
   "cell_type": "code",
   "execution_count": 17,
   "metadata": {},
   "outputs": [
    {
     "data": {
      "text/plain": [
       "KNeighborsClassifier()"
      ]
     },
     "execution_count": 17,
     "metadata": {},
     "output_type": "execute_result"
    }
   ],
   "source": [
    "from sklearn.neighbors import KNeighborsClassifier\n",
    "classifier = KNeighborsClassifier(n_neighbors=5)\n",
    "classifier.fit(X_train, y_train)"
   ]
  },
  {
   "cell_type": "markdown",
   "metadata": {},
   "source": [
    "The final step is to make predictions on our test data. Using the classifier.predict function, we evaluate our classifier"
   ]
  },
  {
   "cell_type": "code",
   "execution_count": 18,
   "metadata": {},
   "outputs": [],
   "source": [
    "y_pred = classifier.predict(X_test)"
   ]
  },
  {
   "cell_type": "markdown",
   "metadata": {},
   "source": [
    "### Evaluating the algorithm\n",
    "\n",
    "In order to evaluate our algorithm, we can look at the confustion matrix, precision, recall, and f1 score (more [here](https://towardsdatascience.com/accuracy-precision-recall-or-f1-331fb37c5cb9))."
   ]
  },
  {
   "cell_type": "code",
   "execution_count": 19,
   "metadata": {},
   "outputs": [
    {
     "name": "stdout",
     "output_type": "stream",
     "text": [
      "[[ 9  0  0]\n",
      " [ 0 11  0]\n",
      " [ 0  2  8]]\n",
      "              precision    recall  f1-score   support\n",
      "\n",
      "      setosa       1.00      1.00      1.00         9\n",
      "  versicolor       0.85      1.00      0.92        11\n",
      "   virginica       1.00      0.80      0.89        10\n",
      "\n",
      "    accuracy                           0.93        30\n",
      "   macro avg       0.95      0.93      0.94        30\n",
      "weighted avg       0.94      0.93      0.93        30\n",
      "\n"
     ]
    }
   ],
   "source": [
    "from sklearn.metrics import classification_report, confusion_matrix\n",
    "\n",
    "print(confusion_matrix(y_test, y_pred))\n",
    "print(classification_report(y_test, y_pred))"
   ]
  },
  {
   "cell_type": "markdown",
   "metadata": {},
   "source": [
    "We can see that our model was able to classify all 30 records in the test set with 100% accuracy which is really great for a first try! Don't expect this with all applications though, especially higher dimensional or categorical features.\n",
    "\n",
    "### Error rate vs K\n",
    "\n",
    "As noted above, k=5 was somewhat randomly chosen. But instead of randomly choosing k=5, we can plot k for many values and plot the results in order to choose the best value. K values can be a comprimise between accuracy and speed, with higher values requiring more computation and lower values being less accurate.\n",
    "\n",
    "Let's keep all the error values from k=1 to k=40 in a array and plot them on a graph."
   ]
  },
  {
   "cell_type": "code",
   "execution_count": 20,
   "metadata": {},
   "outputs": [],
   "source": [
    "error = []\n",
    "\n",
    "# Calculating error for K values between 1 and 40\n",
    "for i in range(1, 40):\n",
    "    knn = KNeighborsClassifier(n_neighbors=i)\n",
    "    knn.fit(X_train, y_train)\n",
    "    pred_i = knn.predict(X_test)\n",
    "    error.append(np.mean(pred_i != y_test))"
   ]
  },
  {
   "cell_type": "code",
   "execution_count": 21,
   "metadata": {},
   "outputs": [
    {
     "data": {
      "text/plain": [
       "Text(0, 0.5, 'Mean Error')"
      ]
     },
     "execution_count": 21,
     "metadata": {},
     "output_type": "execute_result"
    },
    {
     "data": {
      "image/png": "[encoded data removed]",
      "text/plain": [
       "<Figure size 864x432 with 1 Axes>"
      ]
     },
     "metadata": {
      "needs_background": "light"
     },
     "output_type": "display_data"
    }
   ],
   "source": [
    "plt.figure(figsize=(12, 6))\n",
    "plt.plot(range(1, 40), error, color='red', linestyle='dashed', marker='o',\n",
    "         markerfacecolor='blue', markersize=10)\n",
    "plt.title('Error Rate K Value')\n",
    "plt.xlabel('K Value')\n",
    "plt.ylabel('Mean Error')"
   ]
  },
  {
   "cell_type": "markdown",
   "metadata": {},
   "source": [
    "This error will vary depending on the test set that is randomly selected, but overall we can see that error increases with K after around 15"
   ]
  }
 ],
 "metadata": {
  "kernelspec": {
   "display_name": "Python 3",
   "language": "python",
   "name": "python3"
  },
  "language_info": {
   "codemirror_mode": {
    "name": "ipython",
    "version": 3
   },
   "file_extension": ".py",
   "mimetype": "text/x-python",
   "name": "python",
   "nbconvert_exporter": "python",
   "pygments_lexer": "ipython3",
   "version": "3.7.6"
  }
 },
 "nbformat": 4,
 "nbformat_minor": 2
}
